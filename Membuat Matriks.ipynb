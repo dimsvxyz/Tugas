{
  "nbformat": 4,
  "nbformat_minor": 0,
  "metadata": {
    "colab": {
      "provenance": [],
      "mount_file_id": "158OnJ9Dn3rhyMueN1MUAQV6-fuxnMROK",
      "authorship_tag": "ABX9TyMa3W6kgvedHj/uqzUAhlJK",
      "include_colab_link": true
    },
    "kernelspec": {
      "name": "python3",
      "display_name": "Python 3"
    },
    "language_info": {
      "name": "python"
    }
  },
  "cells": [
    {
      "cell_type": "markdown",
      "metadata": {
        "id": "view-in-github",
        "colab_type": "text"
      },
      "source": [
        "<a href=\"https://colab.research.google.com/github/dimsvxyz/Tugas/blob/main/Membuat%20Matriks.ipynb\" target=\"_parent\"><img src=\"https://colab.research.google.com/assets/colab-badge.svg\" alt=\"Open In Colab\"/></a>"
      ]
    },
    {
      "cell_type": "markdown",
      "source": [
        "Membuat Matriks\n",
        "\n",
        "Matriks di Python dapat dibuat dengan NumPy. Matriks hanyalah array 2 dimensi."
      ],
      "metadata": {
        "id": "2doIOoZOtWAP"
      }
    },
    {
      "cell_type": "code",
      "source": [
        "import numpy as np\n",
        "\n",
        "\n",
        "A = np.array([[1, 2, 3],\n",
        "              [4, 5, 6]])\n",
        "\n",
        "print(\"Matriks A:\\n\", A)\n"
      ],
      "metadata": {
        "id": "qO3uNq3_tfjQ"
      },
      "execution_count": null,
      "outputs": []
    },
    {
      "cell_type": "markdown",
      "source": [
        "Penjelasan\n",
        "\n",
        "np.array() membuat array dari list Python.\n",
        "\n",
        "Matriks A berukuran 2x3 (2 baris, 3 kolom).\n",
        "\n",
        "Contoh lain menggunakan fungsi bawaan NumPy:"
      ],
      "metadata": {
        "id": "5XLJgSgztqDs"
      }
    },
    {
      "cell_type": "code",
      "source": [
        "print(\"Zeros 3x3:\\n\", np.zeros((3,3)))   # matriks nol\n",
        "print(\"Ones 2x4:\\n\", np.ones((2,4)))     # matriks satu\n",
        "print(\"Identity 3x3:\\n\", np.eye(3))      # matriks identitas\n"
      ],
      "metadata": {
        "id": "LSYEztghtuHB"
      },
      "execution_count": null,
      "outputs": []
    },
    {
      "cell_type": "code",
      "source": [],
      "metadata": {
        "id": "SHfFx_Afi01E"
      },
      "execution_count": null,
      "outputs": []
    }
  ]
}