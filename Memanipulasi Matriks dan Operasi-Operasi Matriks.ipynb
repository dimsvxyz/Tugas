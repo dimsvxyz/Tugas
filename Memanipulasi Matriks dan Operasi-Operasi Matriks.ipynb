{
  "nbformat": 4,
  "nbformat_minor": 0,
  "metadata": {
    "colab": {
      "provenance": [],
      "authorship_tag": "ABX9TyOC/jO8y1sGJbga+Qpsd5IQ",
      "include_colab_link": true
    },
    "kernelspec": {
      "name": "python3",
      "display_name": "Python 3"
    },
    "language_info": {
      "name": "python"
    }
  },
  "cells": [
    {
      "cell_type": "markdown",
      "metadata": {
        "id": "view-in-github",
        "colab_type": "text"
      },
      "source": [
        "<a href=\"https://colab.research.google.com/github/dimsvxyz/Tugas/blob/main/Memanipulasi%20Matriks%20dan%20Operasi-Operasi%20Matriks.ipynb\" target=\"_parent\"><img src=\"https://colab.research.google.com/assets/colab-badge.svg\" alt=\"Open In Colab\"/></a>"
      ]
    },
    {
      "cell_type": "markdown",
      "source": [
        "\n",
        "\n",
        "    Manipulasi Matriks\n",
        "\n",
        "NumPy mendukung berbagai manipulasi: transpose, reshape, slicing, hingga gabungan.\n"
      ],
      "metadata": {
        "id": "24w3mbO3-bVD"
      }
    },
    {
      "cell_type": "code",
      "source": [
        "# Transpose\n",
        "print(\"Transpose A:\\n\", A.T)\n",
        "\n",
        "# Reshape\n",
        "B = np.arange(1, 13).reshape(3, 4)   # isi 1..12 jadi matriks 3x4\n",
        "print(\"Matriks B:\\n\", B)\n",
        "print(\"Reshape B menjadi 2x6:\\n\", B.reshape(2, 6))\n",
        "\n",
        "# Indexing & slicing\n",
        "print(\"Baris ke-2 dari A:\", A[1, :])   # ambil baris ke-2\n",
        "print(\"Kolom ke-3 dari A:\", A[:, 2])   # ambil kolom ke-3\n",
        "\n",
        "# Concatenate\n",
        "print(\"Gabungan horizontal:\\n\", np.hstack((A, A)))\n",
        "print(\"Gabungan vertikal:\\n\", np.vstack((A, A)))\n"
      ],
      "metadata": {
        "id": "3RU05nRQ-djL"
      },
      "execution_count": null,
      "outputs": []
    },
    {
      "cell_type": "markdown",
      "source": [
        ".T → transpose (tukar baris dan kolom).\n",
        "\n",
        ".reshape(m,n) → ubah bentuk matriks tanpa mengubah data.\n",
        "\n",
        "A[1,:] → ambil baris ke-2 (index mulai dari 0).\n",
        "\n",
        "np.hstack → gabungan horizontal, np.vstack → gabungan vertikal."
      ],
      "metadata": {
        "id": "8a4FgLJD-mao"
      }
    },
    {
      "cell_type": "markdown",
      "source": [
        "Operasi Matriks\n",
        "\n",
        "Ada 2 jenis:\n",
        "\n",
        "Elementwise (per elemen)\n",
        "\n",
        "Matrix multiplication (perkalian matriks secara linear algebra)"
      ],
      "metadata": {
        "id": "ZBGyaUqb-q27"
      }
    },
    {
      "cell_type": "code",
      "source": [
        "# Elementwise\n",
        "print(\"Elementwise A * A:\\n\", A * A)\n",
        "\n",
        "# Perkalian matriks\n",
        "X = np.array([[1, 2],\n",
        "              [3, 4],\n",
        "              [5, 6]])   # 3x2\n",
        "Y = np.array([[1, 0, 2],\n",
        "              [0, 1, 3]])  # 2x3\n",
        "\n",
        "print(\"Perkalian matriks (X @ Y):\\n\", X @ Y)\n"
      ],
      "metadata": {
        "id": "iJjNe8hf-v9c"
      },
      "execution_count": null,
      "outputs": []
    },
    {
      "cell_type": "markdown",
      "source": [
        "Penjelasan\n",
        "\n",
        "A * A → tiap elemen dikalikan.\n",
        "\n",
        "X @ Y atau np.dot(X,Y) → perkalian matriks biasa: (3x2) · (2x3) → (3x3)."
      ],
      "metadata": {
        "id": "G0oswrqZPa4z"
      }
    },
    {
      "cell_type": "markdown",
      "source": [
        "Operasi Aljabar Linear\n",
        "\n",
        "Hanya berlaku untuk matriks persegi (n×n)."
      ],
      "metadata": {
        "id": "2pNGgoM-Pltz"
      }
    },
    {
      "cell_type": "code",
      "source": [
        "C = np.array([[2., 0., 1.],\n",
        "              [0., 3., 4.],\n",
        "              [5., 6., 0.]])\n",
        "\n",
        "print(\"Determinant C:\", np.linalg.det(C))\n",
        "print(\"Inverse C:\\n\", np.linalg.inv(C))\n",
        "print(\"Trace C:\", np.trace(C))\n",
        "\n",
        "eigvals, eigvecs = np.linalg.eig(C)\n",
        "print(\"Eigenvalues:\", eigvals)\n",
        "print(\"Eigenvectors:\\n\", eigvecs)\n"
      ],
      "metadata": {
        "id": "zyheM7bkPmq7"
      },
      "execution_count": null,
      "outputs": []
    },
    {
      "cell_type": "markdown",
      "source": [
        "Penjelasan\n",
        "\n",
        "np.linalg.det(C) → menghitung determinan.\n",
        "\n",
        "np.linalg.inv(C) → menghitung invers.\n",
        "\n",
        "np.trace(C) → jumlah elemen diagonal utama.\n",
        "\n",
        "np.linalg.eig(C) → mencari eigenvalue & eigenvector."
      ],
      "metadata": {
        "id": "pMGN_xJ2PscL"
      }
    },
    {
      "cell_type": "markdown",
      "source": [
        "Menyelesaikan Sistem Persamaan Linear\n",
        "\n",
        "Kita ingin menyelesaikan\n",
        "Cx=b\n"
      ],
      "metadata": {
        "id": "wXhiHvTrPx-Z"
      }
    },
    {
      "cell_type": "code",
      "source": [
        "b = np.array([1, 2, 3])\n",
        "x = np.linalg.solve(C, b)\n",
        "\n",
        "print(\"Solusi x:\", x)\n",
        "print(\"C @ x = \", C @ x)  # cek hasilnya sama dengan b\n"
      ],
      "metadata": {
        "id": "tlKcfVNBP070"
      },
      "execution_count": null,
      "outputs": []
    },
    {
      "cell_type": "markdown",
      "source": [
        "Penjelasan\n",
        "\n",
        "np.linalg.solve(C, b) → solusi persamaan linear.\n",
        "\n",
        "Mengecek hasil dengan C @ x."
      ],
      "metadata": {
        "id": "U1s36AxYP3sh"
      }
    }
  ]
}