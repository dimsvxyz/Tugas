{
  "nbformat": 4,
  "nbformat_minor": 0,
  "metadata": {
    "colab": {
      "provenance": [],
      "mount_file_id": "158OnJ9Dn3rhyMueN1MUAQV6-fuxnMROK",
      "authorship_tag": "ABX9TyMF2SMqxqNN0RQP7Y7dnVi7",
      "include_colab_link": true
    },
    "kernelspec": {
      "name": "python3",
      "display_name": "Python 3"
    },
    "language_info": {
      "name": "python"
    }
  },
  "cells": [
    {
      "cell_type": "markdown",
      "metadata": {
        "id": "view-in-github",
        "colab_type": "text"
      },
      "source": [
        "<a href=\"https://colab.research.google.com/github/dimsvxyz/Tugas/blob/main/Membuat%20matriks.ipynb\" target=\"_parent\"><img src=\"https://colab.research.google.com/assets/colab-badge.svg\" alt=\"Open In Colab\"/></a>"
      ]
    },
    {
      "cell_type": "markdown",
      "source": [
        "1. Membuat Matriks\n",
        "\n",
        "Matriks di Python dapat dibuat dengan NumPy. Matriks hanyalah array 2 dimensi."
      ],
      "metadata": {
        "id": "2doIOoZOtWAP"
      }
    },
    {
      "cell_type": "code",
      "source": [
        "import numpy as np\n",
        "\n",
        "\n",
        "A = np.array([[1, 2, 3],\n",
        "              [4, 5, 6]])\n",
        "\n",
        "print(\"Matriks A:\\n\", A)\n"
      ],
      "metadata": {
        "id": "qO3uNq3_tfjQ"
      },
      "execution_count": null,
      "outputs": []
    },
    {
      "cell_type": "markdown",
      "source": [
        "Penjelasan\n",
        "\n",
        "np.array() membuat array dari list Python.\n",
        "\n",
        "Matriks A berukuran 2x3 (2 baris, 3 kolom).\n",
        "\n",
        "Contoh lain menggunakan fungsi bawaan NumPy:"
      ],
      "metadata": {
        "id": "5XLJgSgztqDs"
      }
    },
    {
      "cell_type": "code",
      "source": [
        "print(\"Zeros 3x3:\\n\", np.zeros((3,3)))   # matriks nol\n",
        "print(\"Ones 2x4:\\n\", np.ones((2,4)))     # matriks satu\n",
        "print(\"Identity 3x3:\\n\", np.eye(3))      # matriks identitas\n"
      ],
      "metadata": {
        "id": "LSYEztghtuHB"
      },
      "execution_count": null,
      "outputs": []
    },
    {
      "cell_type": "markdown",
      "source": [
        "2. Manipulasi Matriks\n",
        "\n",
        "NumPy mendukung berbagai manipulasi: transpose, reshape, slicing, hingga gabungan."
      ],
      "metadata": {
        "id": "APl4xaswuDpL"
      }
    },
    {
      "cell_type": "code",
      "source": [
        "# Transpose\n",
        "print(\"Transpose A:\\n\", A.T)\n",
        "\n",
        "# Reshape\n",
        "B = np.arange(1, 13).reshape(3, 4)   # isi 1..12 jadi matriks 3x4\n",
        "print(\"Matriks B:\\n\", B)\n",
        "print(\"Reshape B menjadi 2x6:\\n\", B.reshape(2, 6))\n",
        "\n",
        "# Indexing & slicing\n",
        "print(\"Baris ke-2 dari A:\", A[1, :])   # ambil baris ke-2\n",
        "print(\"Kolom ke-3 dari A:\", A[:, 2])   # ambil kolom ke-3\n",
        "\n",
        "# Concatenate\n",
        "print(\"Gabungan horizontal:\\n\", np.hstack((A, A)))\n",
        "print(\"Gabungan vertikal:\\n\", np.vstack((A, A)))\n"
      ],
      "metadata": {
        "id": "pu5byFWxuFLX"
      },
      "execution_count": null,
      "outputs": []
    },
    {
      "cell_type": "markdown",
      "source": [
        "Penjelasan\n",
        "\n",
        ".T → transpose (tukar baris dan kolom).\n",
        "\n",
        ".reshape(m,n) → ubah bentuk matriks tanpa mengubah data.\n",
        "\n",
        "A[1,:] → ambil baris ke-2 (index mulai dari 0).\n",
        "\n",
        "np.hstack → gabungan horizontal, np.vstack → gabungan vertikal."
      ],
      "metadata": {
        "id": "FcpZs_x43ONZ"
      }
    },
    {
      "cell_type": "markdown",
      "source": [
        "3. Operasi Matriks\n",
        "\n",
        "Ada 2 jenis:\n",
        "\n",
        "Elementwise (per elemen)\n",
        "\n",
        "Matrix multiplication (perkalian matriks secara linear algebra)"
      ],
      "metadata": {
        "id": "tTf0Oq5bAm24"
      }
    },
    {
      "cell_type": "code",
      "source": [
        "# Elementwise\n",
        "print(\"Elementwise A * A:\\n\", A * A)\n",
        "\n",
        "# Perkalian matriks\n",
        "X = np.array([[1, 2],\n",
        "              [3, 4],\n",
        "              [5, 6]])   # 3x2\n",
        "Y = np.array([[1, 0, 2],\n",
        "              [0, 1, 3]])  # 2x3\n",
        "\n",
        "print(\"Perkalian matriks (X @ Y):\\n\", X @ Y)\n"
      ],
      "metadata": {
        "id": "SroHVorEAn0j"
      },
      "execution_count": null,
      "outputs": []
    },
    {
      "cell_type": "markdown",
      "source": [
        "Penjelasan\n",
        "\n",
        "A * A → tiap elemen dikalikan.\n",
        "\n",
        "X @ Y atau np.dot(X,Y) → perkalian matriks biasa: (3x2) · (2x3) → (3x3)."
      ],
      "metadata": {
        "id": "TUjRf_aBAsp-"
      }
    },
    {
      "cell_type": "markdown",
      "source": [
        "Operasi Aljabar Linear\n",
        "\n",
        "Hanya berlaku untuk matriks persegi (n×n)."
      ],
      "metadata": {
        "id": "ZrfrDJxVijvH"
      }
    },
    {
      "cell_type": "code",
      "source": [
        "C = np.array([[2., 0., 1.],\n",
        "              [0., 3., 4.],\n",
        "              [5., 6., 0.]])\n",
        "\n",
        "print(\"Determinant C:\", np.linalg.det(C))\n",
        "print(\"Inverse C:\\n\", np.linalg.inv(C))\n",
        "print(\"Trace C:\", np.trace(C))\n",
        "\n",
        "eigvals, eigvecs = np.linalg.eig(C)\n",
        "print(\"Eigenvalues:\", eigvals)\n",
        "print(\"Eigenvectors:\\n\", eigvecs)\n"
      ],
      "metadata": {
        "id": "98SHe-tLinjl"
      },
      "execution_count": null,
      "outputs": []
    },
    {
      "cell_type": "code",
      "source": [],
      "metadata": {
        "id": "SHfFx_Afi01E"
      },
      "execution_count": null,
      "outputs": []
    }
  ]
}